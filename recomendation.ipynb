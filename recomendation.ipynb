{
 "cells": [
  {
   "cell_type": "code",
   "execution_count": 8,
   "id": "188fa4c7-25c4-4bd5-990e-4076bd7e9ee0",
   "metadata": {},
   "outputs": [],
   "source": [
    "import numpy as np\n",
    "import pandas as pd\n",
    "import sklearn\n",
    "import matplotlib.pyplot as plt\n",
    "import seaborn as sns\n",
    "from scipy.sparse import csr_matrix\n",
    "from sklearn.neighbors import NearestNeighbors\n",
    "\n"
   ]
  },
  {
   "cell_type": "code",
   "execution_count": 9,
   "id": "2299a639-3f47-414a-9b33-ed63ea2a0147",
   "metadata": {},
   "outputs": [
    {
     "data": {
      "text/html": [
       "<div>\n",
       "<style scoped>\n",
       "    .dataframe tbody tr th:only-of-type {\n",
       "        vertical-align: middle;\n",
       "    }\n",
       "\n",
       "    .dataframe tbody tr th {\n",
       "        vertical-align: top;\n",
       "    }\n",
       "\n",
       "    .dataframe thead th {\n",
       "        text-align: right;\n",
       "    }\n",
       "</style>\n",
       "<table border=\"1\" class=\"dataframe\">\n",
       "  <thead>\n",
       "    <tr style=\"text-align: right;\">\n",
       "      <th></th>\n",
       "      <th>userId</th>\n",
       "      <th>movieId</th>\n",
       "      <th>title</th>\n",
       "      <th>rating</th>\n",
       "    </tr>\n",
       "  </thead>\n",
       "  <tbody>\n",
       "    <tr>\n",
       "      <th>0</th>\n",
       "      <td>1</td>\n",
       "      <td>8</td>\n",
       "      <td>Fight Club</td>\n",
       "      <td>3.7</td>\n",
       "    </tr>\n",
       "    <tr>\n",
       "      <th>1</th>\n",
       "      <td>1</td>\n",
       "      <td>1</td>\n",
       "      <td>The Shawshank Redemption</td>\n",
       "      <td>4.6</td>\n",
       "    </tr>\n",
       "    <tr>\n",
       "      <th>2</th>\n",
       "      <td>1</td>\n",
       "      <td>24</td>\n",
       "      <td>The Departed</td>\n",
       "      <td>4.3</td>\n",
       "    </tr>\n",
       "    <tr>\n",
       "      <th>3</th>\n",
       "      <td>1</td>\n",
       "      <td>9</td>\n",
       "      <td>Forrest Gump</td>\n",
       "      <td>4.4</td>\n",
       "    </tr>\n",
       "    <tr>\n",
       "      <th>4</th>\n",
       "      <td>1</td>\n",
       "      <td>32</td>\n",
       "      <td>The Pianist</td>\n",
       "      <td>3.5</td>\n",
       "    </tr>\n",
       "  </tbody>\n",
       "</table>\n",
       "</div>"
      ],
      "text/plain": [
       "   userId  movieId                     title  rating\n",
       "0       1        8                Fight Club     3.7\n",
       "1       1        1  The Shawshank Redemption     4.6\n",
       "2       1       24              The Departed     4.3\n",
       "3       1        9              Forrest Gump     4.4\n",
       "4       1       32               The Pianist     3.5"
      ]
     },
     "execution_count": 9,
     "metadata": {},
     "output_type": "execute_result"
    }
   ],
   "source": [
    "ratings = pd.read_csv(\"ratings.csv\")\n",
    "ratings.head()"
   ]
  },
  {
   "cell_type": "code",
   "execution_count": 10,
   "id": "8b56cf93-0551-481b-a8a6-4decd4a55a82",
   "metadata": {},
   "outputs": [
    {
     "name": "stdout",
     "output_type": "stream",
     "text": [
      "userId               1    2    3    4    5\n",
      "title                                     \n",
      "12 Angry Men       NaN  NaN  3.6  NaN  NaN\n",
      "Avengers: Endgame  NaN  3.5  NaN  NaN  4.5\n",
      "Django Unchained   NaN  NaN  NaN  NaN  NaN\n",
      "Fight Club         3.7  3.7  NaN  3.7  NaN\n",
      "Forrest Gump       4.4  NaN  NaN  NaN  3.7\n",
      "Gladiator          NaN  NaN  NaN  NaN  NaN\n",
      "Goodfellas         NaN  NaN  3.6  NaN  NaN\n",
      "Inception          NaN  NaN  NaN  NaN  NaN\n",
      "Interstellar       NaN  4.9  NaN  NaN  NaN\n",
      "Joker              3.6  NaN  NaN  NaN  NaN\n"
     ]
    }
   ],
   "source": [
    "def create_matrix(df):\n",
    "    user_mapper = {uid: i for i, uid in enumerate(df['userId'].unique())}\n",
    "    movie_mapper = {mid: i for i, mid in enumerate(df['movieId'].unique())}\n",
    "    movie_inv_mapper = {i: mid for mid, i in movie_mapper.items()}\n",
    "\n",
    "    user_index = df['userId'].map(user_mapper)\n",
    "    movie_index = df['movieId'].map(movie_mapper)\n",
    "\n",
    "    X = csr_matrix((df[\"rating\"], (movie_index, user_index)),\n",
    "                   shape=(len(movie_mapper), len(user_mapper)))\n",
    "    return X, movie_mapper, movie_inv_mapper\n",
    "\n",
    "\n",
    "X, movie_mapper, movie_inv_mapper = create_matrix(ratings)\n",
    "\n",
    "user_item_matrix = ratings.pivot_table(\n",
    "    index=\"title\", columns=\"userId\", values=\"rating\")\n",
    "print(user_item_matrix.iloc[:10, :5])"
   ]
  },
  {
   "cell_type": "code",
   "execution_count": 11,
   "id": "30e2a85f-fe60-4a21-a933-a433ff4102a4",
   "metadata": {},
   "outputs": [],
   "source": [
    "def recommend_similar(movie_title, df, X, movie_mapper, movie_inv_mapper, k=5):\n",
    "    movie_id = df[df['title'] == movie_title]['movieId'].iloc[0]\n",
    "    movie_idx = movie_mapper[movie_id]\n",
    "    movie_vec = X[movie_idx]\n",
    "\n",
    "    model = NearestNeighbors(metric='cosine', algorithm='brute')\n",
    "    model.fit(X)\n",
    "    distances, indices = model.kneighbors(movie_vec, n_neighbors=k + 1)\n",
    "\n",
    "    neighbor_ids = [movie_inv_mapper[i] for i in indices.flatten()[1:]]\n",
    "    recommendations = df[df['movieId'].isin(neighbor_ids)]['title'].unique()\n",
    "\n",
    "    print(f\"\\nBecause you liked **{movie_title}**, you might also enjoy:\")\n",
    "    for rec in recommendations:\n",
    "        print(f\"- {rec}\")"
   ]
  },
  {
   "cell_type": "code",
   "execution_count": 12,
   "id": "43260644-b129-4dca-b0ed-59fa37b70405",
   "metadata": {},
   "outputs": [
    {
     "name": "stdout",
     "output_type": "stream",
     "text": [
      "\n",
      "Because you liked **12 Angry Men**, you might also enjoy:\n",
      "- The Pianist\n",
      "- The Dark Knight\n",
      "- The Social Network\n",
      "- The Usual Suspects\n",
      "- Pulp Fiction\n"
     ]
    }
   ],
   "source": [
    "recommend_similar(\"12 Angry Men\", ratings, X,\n",
    "                  movie_mapper, movie_inv_mapper, k=5)"
   ]
  },
  {
   "cell_type": "code",
   "execution_count": null,
   "id": "50696758-e575-445c-8dd1-f60108a92f07",
   "metadata": {},
   "outputs": [],
   "source": []
  }
 ],
 "metadata": {
  "kernelspec": {
   "display_name": "Python (myenv)",
   "language": "python",
   "name": "myenv"
  },
  "language_info": {
   "codemirror_mode": {
    "name": "ipython",
    "version": 3
   },
   "file_extension": ".py",
   "mimetype": "text/x-python",
   "name": "python",
   "nbconvert_exporter": "python",
   "pygments_lexer": "ipython3",
   "version": "3.14.0"
  }
 },
 "nbformat": 4,
 "nbformat_minor": 5
}
